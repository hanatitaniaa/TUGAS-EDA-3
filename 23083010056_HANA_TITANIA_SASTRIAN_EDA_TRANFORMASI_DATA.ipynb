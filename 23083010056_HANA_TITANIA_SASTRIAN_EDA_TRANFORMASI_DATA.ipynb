{
  "nbformat": 4,
  "nbformat_minor": 0,
  "metadata": {
    "colab": {
      "provenance": []
    },
    "kernelspec": {
      "name": "python3",
      "display_name": "Python 3"
    },
    "language_info": {
      "name": "python"
    }
  },
  "cells": [
    {
      "cell_type": "code",
      "execution_count": null,
      "metadata": {
        "id": "ASMLVyxb-b7x"
      },
      "outputs": [],
      "source": []
    },
    {
      "cell_type": "markdown",
      "source": [
        "HANA TITANIA SASTRIAN\n",
        "23083010056\n",
        "ANALISIS DATA EKSPLORATIF A"
      ],
      "metadata": {
        "id": "_jM8v-ch-j74"
      }
    },
    {
      "cell_type": "code",
      "source": [
        "import pandas as pd\n",
        "from google.colab import files\n",
        "import matplotlib.pyplot as plt\n",
        "import seaborn as sns"
      ],
      "metadata": {
        "id": "Kc_UgqmG-qJs"
      },
      "execution_count": 1,
      "outputs": []
    },
    {
      "cell_type": "code",
      "source": [
        "import pandas as pd\n",
        "from google.colab import files\n",
        "\n",
        "uploaded = files.upload()\n",
        "\n",
        "file_name = 'ProductPriceIndex.csv'\n",
        "\n",
        "df = pd.read_csv(file_name, delimiter=';')\n",
        "\n",
        "price_columns = ['farmprice', 'atlantaretail', 'chicagoretail', 'losangelesretail', 'newyorkretail', 'averagespread']\n",
        "\n",
        "for column in price_columns:\n",
        "    if column != 'averagespread':\n",
        "        df[column] = pd.to_numeric(df[column].replace('[\\$,]', '', regex=True), errors='coerce')\n",
        "    else:\n",
        "        df[column] = pd.to_numeric(df[column].replace('[\\%,]', '', regex=True), errors='coerce')\n",
        "\n",
        "df['date'] = pd.to_datetime(df['date'], errors='coerce', dayfirst=True)\n",
        "\n",
        "print(df.head())\n"
      ],
      "metadata": {
        "colab": {
          "base_uri": "https://localhost:8080/",
          "height": 298
        },
        "id": "RgmsSWjI_4z5",
        "outputId": "564bf4a9-5807-4cc2-91ad-d47dea00c196"
      },
      "execution_count": 11,
      "outputs": [
        {
          "output_type": "display_data",
          "data": {
            "text/plain": [
              "<IPython.core.display.HTML object>"
            ],
            "text/html": [
              "\n",
              "     <input type=\"file\" id=\"files-af63d902-a173-4c26-9f8f-370e40f051b4\" name=\"files[]\" multiple disabled\n",
              "        style=\"border:none\" />\n",
              "     <output id=\"result-af63d902-a173-4c26-9f8f-370e40f051b4\">\n",
              "      Upload widget is only available when the cell has been executed in the\n",
              "      current browser session. Please rerun this cell to enable.\n",
              "      </output>\n",
              "      <script>// Copyright 2017 Google LLC\n",
              "//\n",
              "// Licensed under the Apache License, Version 2.0 (the \"License\");\n",
              "// you may not use this file except in compliance with the License.\n",
              "// You may obtain a copy of the License at\n",
              "//\n",
              "//      http://www.apache.org/licenses/LICENSE-2.0\n",
              "//\n",
              "// Unless required by applicable law or agreed to in writing, software\n",
              "// distributed under the License is distributed on an \"AS IS\" BASIS,\n",
              "// WITHOUT WARRANTIES OR CONDITIONS OF ANY KIND, either express or implied.\n",
              "// See the License for the specific language governing permissions and\n",
              "// limitations under the License.\n",
              "\n",
              "/**\n",
              " * @fileoverview Helpers for google.colab Python module.\n",
              " */\n",
              "(function(scope) {\n",
              "function span(text, styleAttributes = {}) {\n",
              "  const element = document.createElement('span');\n",
              "  element.textContent = text;\n",
              "  for (const key of Object.keys(styleAttributes)) {\n",
              "    element.style[key] = styleAttributes[key];\n",
              "  }\n",
              "  return element;\n",
              "}\n",
              "\n",
              "// Max number of bytes which will be uploaded at a time.\n",
              "const MAX_PAYLOAD_SIZE = 100 * 1024;\n",
              "\n",
              "function _uploadFiles(inputId, outputId) {\n",
              "  const steps = uploadFilesStep(inputId, outputId);\n",
              "  const outputElement = document.getElementById(outputId);\n",
              "  // Cache steps on the outputElement to make it available for the next call\n",
              "  // to uploadFilesContinue from Python.\n",
              "  outputElement.steps = steps;\n",
              "\n",
              "  return _uploadFilesContinue(outputId);\n",
              "}\n",
              "\n",
              "// This is roughly an async generator (not supported in the browser yet),\n",
              "// where there are multiple asynchronous steps and the Python side is going\n",
              "// to poll for completion of each step.\n",
              "// This uses a Promise to block the python side on completion of each step,\n",
              "// then passes the result of the previous step as the input to the next step.\n",
              "function _uploadFilesContinue(outputId) {\n",
              "  const outputElement = document.getElementById(outputId);\n",
              "  const steps = outputElement.steps;\n",
              "\n",
              "  const next = steps.next(outputElement.lastPromiseValue);\n",
              "  return Promise.resolve(next.value.promise).then((value) => {\n",
              "    // Cache the last promise value to make it available to the next\n",
              "    // step of the generator.\n",
              "    outputElement.lastPromiseValue = value;\n",
              "    return next.value.response;\n",
              "  });\n",
              "}\n",
              "\n",
              "/**\n",
              " * Generator function which is called between each async step of the upload\n",
              " * process.\n",
              " * @param {string} inputId Element ID of the input file picker element.\n",
              " * @param {string} outputId Element ID of the output display.\n",
              " * @return {!Iterable<!Object>} Iterable of next steps.\n",
              " */\n",
              "function* uploadFilesStep(inputId, outputId) {\n",
              "  const inputElement = document.getElementById(inputId);\n",
              "  inputElement.disabled = false;\n",
              "\n",
              "  const outputElement = document.getElementById(outputId);\n",
              "  outputElement.innerHTML = '';\n",
              "\n",
              "  const pickedPromise = new Promise((resolve) => {\n",
              "    inputElement.addEventListener('change', (e) => {\n",
              "      resolve(e.target.files);\n",
              "    });\n",
              "  });\n",
              "\n",
              "  const cancel = document.createElement('button');\n",
              "  inputElement.parentElement.appendChild(cancel);\n",
              "  cancel.textContent = 'Cancel upload';\n",
              "  const cancelPromise = new Promise((resolve) => {\n",
              "    cancel.onclick = () => {\n",
              "      resolve(null);\n",
              "    };\n",
              "  });\n",
              "\n",
              "  // Wait for the user to pick the files.\n",
              "  const files = yield {\n",
              "    promise: Promise.race([pickedPromise, cancelPromise]),\n",
              "    response: {\n",
              "      action: 'starting',\n",
              "    }\n",
              "  };\n",
              "\n",
              "  cancel.remove();\n",
              "\n",
              "  // Disable the input element since further picks are not allowed.\n",
              "  inputElement.disabled = true;\n",
              "\n",
              "  if (!files) {\n",
              "    return {\n",
              "      response: {\n",
              "        action: 'complete',\n",
              "      }\n",
              "    };\n",
              "  }\n",
              "\n",
              "  for (const file of files) {\n",
              "    const li = document.createElement('li');\n",
              "    li.append(span(file.name, {fontWeight: 'bold'}));\n",
              "    li.append(span(\n",
              "        `(${file.type || 'n/a'}) - ${file.size} bytes, ` +\n",
              "        `last modified: ${\n",
              "            file.lastModifiedDate ? file.lastModifiedDate.toLocaleDateString() :\n",
              "                                    'n/a'} - `));\n",
              "    const percent = span('0% done');\n",
              "    li.appendChild(percent);\n",
              "\n",
              "    outputElement.appendChild(li);\n",
              "\n",
              "    const fileDataPromise = new Promise((resolve) => {\n",
              "      const reader = new FileReader();\n",
              "      reader.onload = (e) => {\n",
              "        resolve(e.target.result);\n",
              "      };\n",
              "      reader.readAsArrayBuffer(file);\n",
              "    });\n",
              "    // Wait for the data to be ready.\n",
              "    let fileData = yield {\n",
              "      promise: fileDataPromise,\n",
              "      response: {\n",
              "        action: 'continue',\n",
              "      }\n",
              "    };\n",
              "\n",
              "    // Use a chunked sending to avoid message size limits. See b/62115660.\n",
              "    let position = 0;\n",
              "    do {\n",
              "      const length = Math.min(fileData.byteLength - position, MAX_PAYLOAD_SIZE);\n",
              "      const chunk = new Uint8Array(fileData, position, length);\n",
              "      position += length;\n",
              "\n",
              "      const base64 = btoa(String.fromCharCode.apply(null, chunk));\n",
              "      yield {\n",
              "        response: {\n",
              "          action: 'append',\n",
              "          file: file.name,\n",
              "          data: base64,\n",
              "        },\n",
              "      };\n",
              "\n",
              "      let percentDone = fileData.byteLength === 0 ?\n",
              "          100 :\n",
              "          Math.round((position / fileData.byteLength) * 100);\n",
              "      percent.textContent = `${percentDone}% done`;\n",
              "\n",
              "    } while (position < fileData.byteLength);\n",
              "  }\n",
              "\n",
              "  // All done.\n",
              "  yield {\n",
              "    response: {\n",
              "      action: 'complete',\n",
              "    }\n",
              "  };\n",
              "}\n",
              "\n",
              "scope.google = scope.google || {};\n",
              "scope.google.colab = scope.google.colab || {};\n",
              "scope.google.colab._files = {\n",
              "  _uploadFiles,\n",
              "  _uploadFilesContinue,\n",
              "};\n",
              "})(self);\n",
              "</script> "
            ]
          },
          "metadata": {}
        },
        {
          "output_type": "stream",
          "name": "stdout",
          "text": [
            "Saving ProductPriceIndex.csv to ProductPriceIndex (2).csv\n",
            "        productname       date  farmprice  atlantaretail  chicagoretail  \\\n",
            "0      Strawberries 2019-05-19       1.16           2.23           1.70   \n",
            "1   Romaine Lettuce 2019-05-19       0.35           1.72           2.00   \n",
            "2  Red Leaf Lettuce 2019-05-19       0.32           1.84           1.84   \n",
            "3          Potatoes 2019-05-19       1.50           5.32           5.14   \n",
            "4           Oranges 2019-05-19       0.41           1.42           1.45   \n",
            "\n",
            "   losangelesretail  newyorkretail  averagespread  \n",
            "0              1.99           2.54          82.33  \n",
            "1              1.69           1.99         428.57  \n",
            "2              1.69           1.89         467.19  \n",
            "3              3.99           6.22         244.50  \n",
            "4              1.34           2.05         281.71  \n"
          ]
        }
      ]
    },
    {
      "cell_type": "markdown",
      "source": [
        "MISSING VALUE"
      ],
      "metadata": {
        "id": "r8QLgBjWBdgx"
      }
    },
    {
      "cell_type": "code",
      "source": [
        "df.isnull().sum()"
      ],
      "metadata": {
        "colab": {
          "base_uri": "https://localhost:8080/",
          "height": 335
        },
        "id": "9uBtQi0-BDH-",
        "outputId": "83d95227-8b19-4916-97bc-0435bd65c07c"
      },
      "execution_count": 12,
      "outputs": [
        {
          "output_type": "execute_result",
          "data": {
            "text/plain": [
              "productname         0\n",
              "date                0\n",
              "farmprice           1\n",
              "atlantaretail       1\n",
              "chicagoretail       0\n",
              "losangelesretail    0\n",
              "newyorkretail       8\n",
              "averagespread       0\n",
              "dtype: int64"
            ],
            "text/html": [
              "<div>\n",
              "<style scoped>\n",
              "    .dataframe tbody tr th:only-of-type {\n",
              "        vertical-align: middle;\n",
              "    }\n",
              "\n",
              "    .dataframe tbody tr th {\n",
              "        vertical-align: top;\n",
              "    }\n",
              "\n",
              "    .dataframe thead th {\n",
              "        text-align: right;\n",
              "    }\n",
              "</style>\n",
              "<table border=\"1\" class=\"dataframe\">\n",
              "  <thead>\n",
              "    <tr style=\"text-align: right;\">\n",
              "      <th></th>\n",
              "      <th>0</th>\n",
              "    </tr>\n",
              "  </thead>\n",
              "  <tbody>\n",
              "    <tr>\n",
              "      <th>productname</th>\n",
              "      <td>0</td>\n",
              "    </tr>\n",
              "    <tr>\n",
              "      <th>date</th>\n",
              "      <td>0</td>\n",
              "    </tr>\n",
              "    <tr>\n",
              "      <th>farmprice</th>\n",
              "      <td>1</td>\n",
              "    </tr>\n",
              "    <tr>\n",
              "      <th>atlantaretail</th>\n",
              "      <td>1</td>\n",
              "    </tr>\n",
              "    <tr>\n",
              "      <th>chicagoretail</th>\n",
              "      <td>0</td>\n",
              "    </tr>\n",
              "    <tr>\n",
              "      <th>losangelesretail</th>\n",
              "      <td>0</td>\n",
              "    </tr>\n",
              "    <tr>\n",
              "      <th>newyorkretail</th>\n",
              "      <td>8</td>\n",
              "    </tr>\n",
              "    <tr>\n",
              "      <th>averagespread</th>\n",
              "      <td>0</td>\n",
              "    </tr>\n",
              "  </tbody>\n",
              "</table>\n",
              "</div><br><label><b>dtype:</b> int64</label>"
            ]
          },
          "metadata": {},
          "execution_count": 12
        }
      ]
    },
    {
      "cell_type": "code",
      "source": [
        "# Identifikasi kolom yang memiliki nilai kosong (missing values)\n",
        "null_counts = df.isna().sum()\n",
        "null_counts = null_counts[null_counts > 0]\n",
        "\n",
        "# Visualisasi kolom dengan nilai kosong\n",
        "plt.figure(figsize=(10, 6))\n",
        "plt.bar(null_counts.index, null_counts)\n",
        "plt.title('Jumlah Nilai Kosong di Setiap Fitur')\n",
        "plt.xlabel('Nama Fitur')\n",
        "plt.ylabel('Jumlah Nilai Kosong')\n",
        "plt.xticks(rotation=90)\n",
        "plt.show()\n"
      ],
      "metadata": {
        "colab": {
          "base_uri": "https://localhost:8080/",
          "height": 645
        },
        "id": "aL1Pum-OBfJ7",
        "outputId": "9e8ea948-990c-42b5-b17e-d4af8312b5d0"
      },
      "execution_count": 13,
      "outputs": [
        {
          "output_type": "display_data",
          "data": {
            "text/plain": [
              "<Figure size 1000x600 with 1 Axes>"
            ],
            "image/png": "[encoded data removed]"
          },
          "metadata": {}
        }
      ]
    },
    {
      "cell_type": "code",
      "source": [
        "# Mengisi nilai kosong (missing value) dengan modus (nilai yang paling sering muncul) untuk kolom tertentu\n",
        "columns_with_na = ['farmprice', 'atlantaretail', 'newyorkretail']\n",
        "\n",
        "for col in columns_with_na:\n",
        "    most_frequent = df[col].mode()[0]\n",
        "    df[col].fillna(most_frequent, inplace=True)"
      ],
      "metadata": {
        "id": "wk61-5N3Bu0W"
      },
      "execution_count": 15,
      "outputs": []
    },
    {
      "cell_type": "code",
      "source": [
        "df.isnull().sum()"
      ],
      "metadata": {
        "colab": {
          "base_uri": "https://localhost:8080/",
          "height": 335
        },
        "id": "aJOR-yEWCE1U",
        "outputId": "8ee6f791-f25e-409f-cff0-0f573b990061"
      },
      "execution_count": 16,
      "outputs": [
        {
          "output_type": "execute_result",
          "data": {
            "text/plain": [
              "productname         0\n",
              "date                0\n",
              "farmprice           0\n",
              "atlantaretail       0\n",
              "chicagoretail       0\n",
              "losangelesretail    0\n",
              "newyorkretail       0\n",
              "averagespread       0\n",
              "dtype: int64"
            ],
            "text/html": [
              "<div>\n",
              "<style scoped>\n",
              "    .dataframe tbody tr th:only-of-type {\n",
              "        vertical-align: middle;\n",
              "    }\n",
              "\n",
              "    .dataframe tbody tr th {\n",
              "        vertical-align: top;\n",
              "    }\n",
              "\n",
              "    .dataframe thead th {\n",
              "        text-align: right;\n",
              "    }\n",
              "</style>\n",
              "<table border=\"1\" class=\"dataframe\">\n",
              "  <thead>\n",
              "    <tr style=\"text-align: right;\">\n",
              "      <th></th>\n",
              "      <th>0</th>\n",
              "    </tr>\n",
              "  </thead>\n",
              "  <tbody>\n",
              "    <tr>\n",
              "      <th>productname</th>\n",
              "      <td>0</td>\n",
              "    </tr>\n",
              "    <tr>\n",
              "      <th>date</th>\n",
              "      <td>0</td>\n",
              "    </tr>\n",
              "    <tr>\n",
              "      <th>farmprice</th>\n",
              "      <td>0</td>\n",
              "    </tr>\n",
              "    <tr>\n",
              "      <th>atlantaretail</th>\n",
              "      <td>0</td>\n",
              "    </tr>\n",
              "    <tr>\n",
              "      <th>chicagoretail</th>\n",
              "      <td>0</td>\n",
              "    </tr>\n",
              "    <tr>\n",
              "      <th>losangelesretail</th>\n",
              "      <td>0</td>\n",
              "    </tr>\n",
              "    <tr>\n",
              "      <th>newyorkretail</th>\n",
              "      <td>0</td>\n",
              "    </tr>\n",
              "    <tr>\n",
              "      <th>averagespread</th>\n",
              "      <td>0</td>\n",
              "    </tr>\n",
              "  </tbody>\n",
              "</table>\n",
              "</div><br><label><b>dtype:</b> int64</label>"
            ]
          },
          "metadata": {},
          "execution_count": 16
        }
      ]
    },
    {
      "cell_type": "code",
      "source": [
        "import matplotlib.pyplot as plt\n",
        "\n",
        "# Menghitung jumlah nilai kosong (missing values) di setiap kolom\n",
        "missing_values = df.isnull().sum()\n",
        "\n",
        "# Memilih kolom yang memiliki nilai kosong saja\n",
        "missing_values = missing_values[missing_values > 0]\n",
        "\n",
        "# Membuat visualisasi menggunakan bar plot\n",
        "plt.figure(figsize=(10, 6))\n",
        "plt.bar(missing_values.index, missing_values.values)\n",
        "plt.title('Missing Values in Features')\n",
        "plt.xlabel('Features')\n",
        "plt.ylabel('Number of Missing Values')\n",
        "plt.xticks(rotation=90)\n",
        "plt.show()\n"
      ],
      "metadata": {
        "colab": {
          "base_uri": "https://localhost:8080/",
          "height": 592
        },
        "id": "fXcNpP-iCRti",
        "outputId": "3b29a0e0-a88b-44ed-9022-289f06ecb798"
      },
      "execution_count": 17,
      "outputs": [
        {
          "output_type": "display_data",
          "data": {
            "text/plain": [
              "<Figure size 1000x600 with 1 Axes>"
            ],
            "image/png": "[encoded data removed]"
          },
          "metadata": {}
        }
      ]
    },
    {
      "cell_type": "code",
      "source": [],
      "metadata": {
        "id": "7t3skJ0GCZEL"
      },
      "execution_count": null,
      "outputs": []
    },
    {
      "cell_type": "markdown",
      "source": [
        "DUMMY VARIABEL"
      ],
      "metadata": {
        "id": "x8afDHXdCb7T"
      }
    },
    {
      "cell_type": "code",
      "source": [
        "# Menghitung jumlah nilai unik untuk setiap kolom dalam DataFrame\n",
        "for feature in df.columns:\n",
        "    unique_count = df[feature].nunique()\n",
        "    print(f\"Jumlah nilai unik di {feature}: {unique_count}\")\n"
      ],
      "metadata": {
        "colab": {
          "base_uri": "https://localhost:8080/"
        },
        "id": "4o_aA4HPCdn2",
        "outputId": "97227d2e-8368-46da-8bf1-490b2f0b6220"
      },
      "execution_count": 18,
      "outputs": [
        {
          "output_type": "stream",
          "name": "stdout",
          "text": [
            "Jumlah nilai unik di productname: 22\n",
            "Jumlah nilai unik di date: 1019\n",
            "Jumlah nilai unik di farmprice: 315\n",
            "Jumlah nilai unik di atlantaretail: 527\n",
            "Jumlah nilai unik di chicagoretail: 458\n",
            "Jumlah nilai unik di losangelesretail: 436\n",
            "Jumlah nilai unik di newyorkretail: 405\n",
            "Jumlah nilai unik di averagespread: 10492\n"
          ]
        }
      ]
    },
    {
      "cell_type": "code",
      "source": [
        "# Membuat variabel dummy untuk kolom harga\n",
        "df_dummies = pd.get_dummies(df, columns=['farmprice', 'atlantaretail', 'newyorkretail'], prefix=['FarmPrice', 'AtlantaRetail', 'NewYorkRetail'])\n",
        "\n",
        "# Menampilkan 5 baris pertama dari DataFrame yang sudah ditambahkan variabel dummy\n",
        "df_dummies.head()\n"
      ],
      "metadata": {
        "colab": {
          "base_uri": "https://localhost:8080/",
          "height": 342
        },
        "id": "wHuOLVsGCiCp",
        "outputId": "f3fe8ba4-db6f-4f00-fe3f-36c997330975"
      },
      "execution_count": 19,
      "outputs": [
        {
          "output_type": "execute_result",
          "data": {
            "text/plain": [
              "        productname       date  chicagoretail  losangelesretail  \\\n",
              "0      Strawberries 2019-05-19           1.70              1.99   \n",
              "1   Romaine Lettuce 2019-05-19           2.00              1.69   \n",
              "2  Red Leaf Lettuce 2019-05-19           1.84              1.69   \n",
              "3          Potatoes 2019-05-19           5.14              3.99   \n",
              "4           Oranges 2019-05-19           1.45              1.34   \n",
              "\n",
              "   averagespread  FarmPrice_0.0  FarmPrice_0.04  FarmPrice_0.05  \\\n",
              "0          82.33          False           False           False   \n",
              "1         428.57          False           False           False   \n",
              "2         467.19          False           False           False   \n",
              "3         244.50          False           False           False   \n",
              "4         281.71          False           False           False   \n",
              "\n",
              "   FarmPrice_0.06  FarmPrice_0.07  ...  NewYorkRetail_6.24  \\\n",
              "0           False           False  ...               False   \n",
              "1           False           False  ...               False   \n",
              "2           False           False  ...               False   \n",
              "3           False           False  ...               False   \n",
              "4           False           False  ...               False   \n",
              "\n",
              "   NewYorkRetail_6.32  NewYorkRetail_6.47  NewYorkRetail_6.49  \\\n",
              "0               False               False               False   \n",
              "1               False               False               False   \n",
              "2               False               False               False   \n",
              "3               False               False               False   \n",
              "4               False               False               False   \n",
              "\n",
              "   NewYorkRetail_6.74  NewYorkRetail_6.99  NewYorkRetail_7.99  \\\n",
              "0               False               False               False   \n",
              "1               False               False               False   \n",
              "2               False               False               False   \n",
              "3               False               False               False   \n",
              "4               False               False               False   \n",
              "\n",
              "   NewYorkRetail_8.92  NewYorkRetail_11.74  NewYorkRetail_41.49  \n",
              "0               False                False                False  \n",
              "1               False                False                False  \n",
              "2               False                False                False  \n",
              "3               False                False                False  \n",
              "4               False                False                False  \n",
              "\n",
              "[5 rows x 1252 columns]"
            ],
            "text/html": [
              "\n",
              "  <div id=\"df-bd3f4d46-faa4-41a7-b958-cbdf9f17b131\" class=\"colab-df-container\">\n",
              "    <div>\n",
              "<style scoped>\n",
              "    .dataframe tbody tr th:only-of-type {\n",
              "        vertical-align: middle;\n",
              "    }\n",
              "\n",
              "    .dataframe tbody tr th {\n",
              "        vertical-align: top;\n",
              "    }\n",
              "\n",
              "    .dataframe thead th {\n",
              "        text-align: right;\n",
              "    }\n",
              "</style>\n",
              "<table border=\"1\" class=\"dataframe\">\n",
              "  <thead>\n",
              "    <tr style=\"text-align: right;\">\n",
              "      <th></th>\n",
              "      <th>productname</th>\n",
              "      <th>date</th>\n",
              "      <th>chicagoretail</th>\n",
              "      <th>losangelesretail</th>\n",
              "      <th>averagespread</th>\n",
              "      <th>FarmPrice_0.0</th>\n",
              "      <th>FarmPrice_0.04</th>\n",
              "      <th>FarmPrice_0.05</th>\n",
              "      <th>FarmPrice_0.06</th>\n",
              "      <th>FarmPrice_0.07</th>\n",
              "      <th>...</th>\n",
              "      <th>NewYorkRetail_6.24</th>\n",
              "      <th>NewYorkRetail_6.32</th>\n",
              "      <th>NewYorkRetail_6.47</th>\n",
              "      <th>NewYorkRetail_6.49</th>\n",
              "      <th>NewYorkRetail_6.74</th>\n",
              "      <th>NewYorkRetail_6.99</th>\n",
              "      <th>NewYorkRetail_7.99</th>\n",
              "      <th>NewYorkRetail_8.92</th>\n",
              "      <th>NewYorkRetail_11.74</th>\n",
              "      <th>NewYorkRetail_41.49</th>\n",
              "    </tr>\n",
              "  </thead>\n",
              "  <tbody>\n",
              "    <tr>\n",
              "      <th>0</th>\n",
              "      <td>Strawberries</td>\n",
              "      <td>2019-05-19</td>\n",
              "      <td>1.70</td>\n",
              "      <td>1.99</td>\n",
              "      <td>82.33</td>\n",
              "      <td>False</td>\n",
              "      <td>False</td>\n",
              "      <td>False</td>\n",
              "      <td>False</td>\n",
              "      <td>False</td>\n",
              "      <td>...</td>\n",
              "      <td>False</td>\n",
              "      <td>False</td>\n",
              "      <td>False</td>\n",
              "      <td>False</td>\n",
              "      <td>False</td>\n",
              "      <td>False</td>\n",
              "      <td>False</td>\n",
              "      <td>False</td>\n",
              "      <td>False</td>\n",
              "      <td>False</td>\n",
              "    </tr>\n",
              "    <tr>\n",
              "      <th>1</th>\n",
              "      <td>Romaine Lettuce</td>\n",
              "      <td>2019-05-19</td>\n",
              "      <td>2.00</td>\n",
              "      <td>1.69</td>\n",
              "      <td>428.57</td>\n",
              "      <td>False</td>\n",
              "      <td>False</td>\n",
              "      <td>False</td>\n",
              "      <td>False</td>\n",
              "      <td>False</td>\n",
              "      <td>...</td>\n",
              "      <td>False</td>\n",
              "      <td>False</td>\n",
              "      <td>False</td>\n",
              "      <td>False</td>\n",
              "      <td>False</td>\n",
              "      <td>False</td>\n",
              "      <td>False</td>\n",
              "      <td>False</td>\n",
              "      <td>False</td>\n",
              "      <td>False</td>\n",
              "    </tr>\n",
              "    <tr>\n",
              "      <th>2</th>\n",
              "      <td>Red Leaf Lettuce</td>\n",
              "      <td>2019-05-19</td>\n",
              "      <td>1.84</td>\n",
              "      <td>1.69</td>\n",
              "      <td>467.19</td>\n",
              "      <td>False</td>\n",
              "      <td>False</td>\n",
              "      <td>False</td>\n",
              "      <td>False</td>\n",
              "      <td>False</td>\n",
              "      <td>...</td>\n",
              "      <td>False</td>\n",
              "      <td>False</td>\n",
              "      <td>False</td>\n",
              "      <td>False</td>\n",
              "      <td>False</td>\n",
              "      <td>False</td>\n",
              "      <td>False</td>\n",
              "      <td>False</td>\n",
              "      <td>False</td>\n",
              "      <td>False</td>\n",
              "    </tr>\n",
              "    <tr>\n",
              "      <th>3</th>\n",
              "      <td>Potatoes</td>\n",
              "      <td>2019-05-19</td>\n",
              "      <td>5.14</td>\n",
              "      <td>3.99</td>\n",
              "      <td>244.50</td>\n",
              "      <td>False</td>\n",
              "      <td>False</td>\n",
              "      <td>False</td>\n",
              "      <td>False</td>\n",
              "      <td>False</td>\n",
              "      <td>...</td>\n",
              "      <td>False</td>\n",
              "      <td>False</td>\n",
              "      <td>False</td>\n",
              "      <td>False</td>\n",
              "      <td>False</td>\n",
              "      <td>False</td>\n",
              "      <td>False</td>\n",
              "      <td>False</td>\n",
              "      <td>False</td>\n",
              "      <td>False</td>\n",
              "    </tr>\n",
              "    <tr>\n",
              "      <th>4</th>\n",
              "      <td>Oranges</td>\n",
              "      <td>2019-05-19</td>\n",
              "      <td>1.45</td>\n",
              "      <td>1.34</td>\n",
              "      <td>281.71</td>\n",
              "      <td>False</td>\n",
              "      <td>False</td>\n",
              "      <td>False</td>\n",
              "      <td>False</td>\n",
              "      <td>False</td>\n",
              "      <td>...</td>\n",
              "      <td>False</td>\n",
              "      <td>False</td>\n",
              "      <td>False</td>\n",
              "      <td>False</td>\n",
              "      <td>False</td>\n",
              "      <td>False</td>\n",
              "      <td>False</td>\n",
              "      <td>False</td>\n",
              "      <td>False</td>\n",
              "      <td>False</td>\n",
              "    </tr>\n",
              "  </tbody>\n",
              "</table>\n",
              "<p>5 rows × 1252 columns</p>\n",
              "</div>\n",
              "    <div class=\"colab-df-buttons\">\n",
              "\n",
              "  <div class=\"colab-df-container\">\n",
              "    <button class=\"colab-df-convert\" onclick=\"convertToInteractive('df-bd3f4d46-faa4-41a7-b958-cbdf9f17b131')\"\n",
              "            title=\"Convert this dataframe to an interactive table.\"\n",
              "            style=\"display:none;\">\n",
              "\n",
              "  <svg xmlns=\"http://www.w3.org/2000/svg\" height=\"24px\" viewBox=\"0 -960 960 960\">\n",
              "    <path d=\"M120-120v-720h720v720H120Zm60-500h600v-160H180v160Zm220 220h160v-160H400v160Zm0 220h160v-160H400v160ZM180-400h160v-160H180v160Zm440 0h160v-160H620v160ZM180-180h160v-160H180v160Zm440 0h160v-160H620v160Z\"/>\n",
              "  </svg>\n",
              "    </button>\n",
              "\n",
              "  <style>\n",
              "    .colab-df-container {\n",
              "      display:flex;\n",
              "      gap: 12px;\n",
              "    }\n",
              "\n",
              "    .colab-df-convert {\n",
              "      background-color: #E8F0FE;\n",
              "      border: none;\n",
              "      border-radius: 50%;\n",
              "      cursor: pointer;\n",
              "      display: none;\n",
              "      fill: #1967D2;\n",
              "      height: 32px;\n",
              "      padding: 0 0 0 0;\n",
              "      width: 32px;\n",
              "    }\n",
              "\n",
              "    .colab-df-convert:hover {\n",
              "      background-color: #E2EBFA;\n",
              "      box-shadow: 0px 1px 2px rgba(60, 64, 67, 0.3), 0px 1px 3px 1px rgba(60, 64, 67, 0.15);\n",
              "      fill: #174EA6;\n",
              "    }\n",
              "\n",
              "    .colab-df-buttons div {\n",
              "      margin-bottom: 4px;\n",
              "    }\n",
              "\n",
              "    [theme=dark] .colab-df-convert {\n",
              "      background-color: #3B4455;\n",
              "      fill: #D2E3FC;\n",
              "    }\n",
              "\n",
              "    [theme=dark] .colab-df-convert:hover {\n",
              "      background-color: #434B5C;\n",
              "      box-shadow: 0px 1px 3px 1px rgba(0, 0, 0, 0.15);\n",
              "      filter: drop-shadow(0px 1px 2px rgba(0, 0, 0, 0.3));\n",
              "      fill: #FFFFFF;\n",
              "    }\n",
              "  </style>\n",
              "\n",
              "    <script>\n",
              "      const buttonEl =\n",
              "        document.querySelector('#df-bd3f4d46-faa4-41a7-b958-cbdf9f17b131 button.colab-df-convert');\n",
              "      buttonEl.style.display =\n",
              "        google.colab.kernel.accessAllowed ? 'block' : 'none';\n",
              "\n",
              "      async function convertToInteractive(key) {\n",
              "        const element = document.querySelector('#df-bd3f4d46-faa4-41a7-b958-cbdf9f17b131');\n",
              "        const dataTable =\n",
              "          await google.colab.kernel.invokeFunction('convertToInteractive',\n",
              "                                                    [key], {});\n",
              "        if (!dataTable) return;\n",
              "\n",
              "        const docLinkHtml = 'Like what you see? Visit the ' +\n",
              "          '<a target=\"_blank\" href=https://colab.research.google.com/notebooks/data_table.ipynb>data table notebook</a>'\n",
              "          + ' to learn more about interactive tables.';\n",
              "        element.innerHTML = '';\n",
              "        dataTable['output_type'] = 'display_data';\n",
              "        await google.colab.output.renderOutput(dataTable, element);\n",
              "        const docLink = document.createElement('div');\n",
              "        docLink.innerHTML = docLinkHtml;\n",
              "        element.appendChild(docLink);\n",
              "      }\n",
              "    </script>\n",
              "  </div>\n",
              "\n",
              "\n",
              "<div id=\"df-e588c0cb-3953-49e5-b0aa-15b1150d19bf\">\n",
              "  <button class=\"colab-df-quickchart\" onclick=\"quickchart('df-e588c0cb-3953-49e5-b0aa-15b1150d19bf')\"\n",
              "            title=\"Suggest charts\"\n",
              "            style=\"display:none;\">\n",
              "\n",
              "<svg xmlns=\"http://www.w3.org/2000/svg\" height=\"24px\"viewBox=\"0 0 24 24\"\n",
              "     width=\"24px\">\n",
              "    <g>\n",
              "        <path d=\"M19 3H5c-1.1 0-2 .9-2 2v14c0 1.1.9 2 2 2h14c1.1 0 2-.9 2-2V5c0-1.1-.9-2-2-2zM9 17H7v-7h2v7zm4 0h-2V7h2v10zm4 0h-2v-4h2v4z\"/>\n",
              "    </g>\n",
              "</svg>\n",
              "  </button>\n",
              "\n",
              "<style>\n",
              "  .colab-df-quickchart {\n",
              "      --bg-color: #E8F0FE;\n",
              "      --fill-color: #1967D2;\n",
              "      --hover-bg-color: #E2EBFA;\n",
              "      --hover-fill-color: #174EA6;\n",
              "      --disabled-fill-color: #AAA;\n",
              "      --disabled-bg-color: #DDD;\n",
              "  }\n",
              "\n",
              "  [theme=dark] .colab-df-quickchart {\n",
              "      --bg-color: #3B4455;\n",
              "      --fill-color: #D2E3FC;\n",
              "      --hover-bg-color: #434B5C;\n",
              "      --hover-fill-color: #FFFFFF;\n",
              "      --disabled-bg-color: #3B4455;\n",
              "      --disabled-fill-color: #666;\n",
              "  }\n",
              "\n",
              "  .colab-df-quickchart {\n",
              "    background-color: var(--bg-color);\n",
              "    border: none;\n",
              "    border-radius: 50%;\n",
              "    cursor: pointer;\n",
              "    display: none;\n",
              "    fill: var(--fill-color);\n",
              "    height: 32px;\n",
              "    padding: 0;\n",
              "    width: 32px;\n",
              "  }\n",
              "\n",
              "  .colab-df-quickchart:hover {\n",
              "    background-color: var(--hover-bg-color);\n",
              "    box-shadow: 0 1px 2px rgba(60, 64, 67, 0.3), 0 1px 3px 1px rgba(60, 64, 67, 0.15);\n",
              "    fill: var(--button-hover-fill-color);\n",
              "  }\n",
              "\n",
              "  .colab-df-quickchart-complete:disabled,\n",
              "  .colab-df-quickchart-complete:disabled:hover {\n",
              "    background-color: var(--disabled-bg-color);\n",
              "    fill: var(--disabled-fill-color);\n",
              "    box-shadow: none;\n",
              "  }\n",
              "\n",
              "  .colab-df-spinner {\n",
              "    border: 2px solid var(--fill-color);\n",
              "    border-color: transparent;\n",
              "    border-bottom-color: var(--fill-color);\n",
              "    animation:\n",
              "      spin 1s steps(1) infinite;\n",
              "  }\n",
              "\n",
              "  @keyframes spin {\n",
              "    0% {\n",
              "      border-color: transparent;\n",
              "      border-bottom-color: var(--fill-color);\n",
              "      border-left-color: var(--fill-color);\n",
              "    }\n",
              "    20% {\n",
              "      border-color: transparent;\n",
              "      border-left-color: var(--fill-color);\n",
              "      border-top-color: var(--fill-color);\n",
              "    }\n",
              "    30% {\n",
              "      border-color: transparent;\n",
              "      border-left-color: var(--fill-color);\n",
              "      border-top-color: var(--fill-color);\n",
              "      border-right-color: var(--fill-color);\n",
              "    }\n",
              "    40% {\n",
              "      border-color: transparent;\n",
              "      border-right-color: var(--fill-color);\n",
              "      border-top-color: var(--fill-color);\n",
              "    }\n",
              "    60% {\n",
              "      border-color: transparent;\n",
              "      border-right-color: var(--fill-color);\n",
              "    }\n",
              "    80% {\n",
              "      border-color: transparent;\n",
              "      border-right-color: var(--fill-color);\n",
              "      border-bottom-color: var(--fill-color);\n",
              "    }\n",
              "    90% {\n",
              "      border-color: transparent;\n",
              "      border-bottom-color: var(--fill-color);\n",
              "    }\n",
              "  }\n",
              "</style>\n",
              "\n",
              "  <script>\n",
              "    async function quickchart(key) {\n",
              "      const quickchartButtonEl =\n",
              "        document.querySelector('#' + key + ' button');\n",
              "      quickchartButtonEl.disabled = true;  // To prevent multiple clicks.\n",
              "      quickchartButtonEl.classList.add('colab-df-spinner');\n",
              "      try {\n",
              "        const charts = await google.colab.kernel.invokeFunction(\n",
              "            'suggestCharts', [key], {});\n",
              "      } catch (error) {\n",
              "        console.error('Error during call to suggestCharts:', error);\n",
              "      }\n",
              "      quickchartButtonEl.classList.remove('colab-df-spinner');\n",
              "      quickchartButtonEl.classList.add('colab-df-quickchart-complete');\n",
              "    }\n",
              "    (() => {\n",
              "      let quickchartButtonEl =\n",
              "        document.querySelector('#df-e588c0cb-3953-49e5-b0aa-15b1150d19bf button');\n",
              "      quickchartButtonEl.style.display =\n",
              "        google.colab.kernel.accessAllowed ? 'block' : 'none';\n",
              "    })();\n",
              "  </script>\n",
              "</div>\n",
              "\n",
              "    </div>\n",
              "  </div>\n"
            ],
            "application/vnd.google.colaboratory.intrinsic+json": {
              "type": "dataframe",
              "variable_name": "df_dummies"
            }
          },
          "metadata": {},
          "execution_count": 19
        }
      ]
    },
    {
      "cell_type": "code",
      "source": [
        "import pandas as pd\n",
        "\n",
        "# Misalkan kita memiliki DataFrame df sebagai berikut\n",
        "data = {\n",
        "    'productname': ['Strawberries', 'Romaine Lettuce', 'Red Leaf Lettuce', 'Potatoes', 'Oranges'],\n",
        "    'farmprice': ['$1.16', '$0.35', '$0.32', '$1.50', '$0.41'],\n",
        "    'atlantaretail': ['$2.23', '$1.72', '$1.84', '$5.32', '$1.42'],\n",
        "    'newyorkretail': ['$2.54', '$1.99', '$1.89', '$6.22', '$2.05']\n",
        "}\n",
        "\n",
        "# Membuat DataFrame\n",
        "df = pd.DataFrame(data)\n",
        "\n",
        "# Membuat variabel dummy untuk kolom harga\n",
        "df_dummies = pd.get_dummies(df, columns=['farmprice', 'atlantaretail', 'newyorkretail'], prefix=['FarmPrice', 'AtlantaRetail', 'NewYorkRetail'])\n",
        "\n",
        "# Menampilkan 5 baris pertama dari DataFrame yang sudah ditambahkan variabel dummy\n",
        "print(\"DataFrame setelah dummy encoding:\")\n",
        "print(df_dummies.head())\n",
        "\n",
        "# Mengganti nilai True/False menjadi 1/0 pada kolom yang sesuai\n",
        "# Namun, dummy variables tidak memiliki True/False, jadi kita tidak perlu langkah ini di sini.\n",
        "\n",
        "# Jika kita memiliki kolom boolean lain yang ingin diubah menjadi 1/0:\n",
        "# Contoh (kolom boolean yang tidak ada dalam data):\n",
        "# df_dummies['some_boolean_column'] = [True, False, True, False, True]\n",
        "\n",
        "# Mengganti True menjadi 1 dan False menjadi 0\n",
        "# df_dummies['some_boolean_column'] = df_dummies['some_boolean_column'].replace({True: 1, False: 0})\n",
        "\n",
        "# Menampilkan DataFrame akhir\n",
        "print(\"DataFrame setelah penggantian:\")\n",
        "print(df_dummies.head())\n"
      ],
      "metadata": {
        "colab": {
          "base_uri": "https://localhost:8080/"
        },
        "id": "SjjwGgjACt6j",
        "outputId": "189bbdfb-2f87-4014-dcfc-215a0c01771b"
      },
      "execution_count": 23,
      "outputs": [
        {
          "output_type": "stream",
          "name": "stdout",
          "text": [
            "DataFrame setelah dummy encoding:\n",
            "        productname  FarmPrice_$0.32  FarmPrice_$0.35  FarmPrice_$0.41  \\\n",
            "0      Strawberries            False            False            False   \n",
            "1   Romaine Lettuce            False             True            False   \n",
            "2  Red Leaf Lettuce             True            False            False   \n",
            "3          Potatoes            False            False            False   \n",
            "4           Oranges            False            False             True   \n",
            "\n",
            "   FarmPrice_$1.16  FarmPrice_$1.50  AtlantaRetail_$1.42  AtlantaRetail_$1.72  \\\n",
            "0             True            False                False                False   \n",
            "1            False            False                False                 True   \n",
            "2            False            False                False                False   \n",
            "3            False             True                False                False   \n",
            "4            False            False                 True                False   \n",
            "\n",
            "   AtlantaRetail_$1.84  AtlantaRetail_$2.23  AtlantaRetail_$5.32  \\\n",
            "0                False                 True                False   \n",
            "1                False                False                False   \n",
            "2                 True                False                False   \n",
            "3                False                False                 True   \n",
            "4                False                False                False   \n",
            "\n",
            "   NewYorkRetail_$1.89  NewYorkRetail_$1.99  NewYorkRetail_$2.05  \\\n",
            "0                False                False                False   \n",
            "1                False                 True                False   \n",
            "2                 True                False                False   \n",
            "3                False                False                False   \n",
            "4                False                False                 True   \n",
            "\n",
            "   NewYorkRetail_$2.54  NewYorkRetail_$6.22  \n",
            "0                 True                False  \n",
            "1                False                False  \n",
            "2                False                False  \n",
            "3                False                 True  \n",
            "4                False                False  \n",
            "DataFrame setelah penggantian:\n",
            "        productname  FarmPrice_$0.32  FarmPrice_$0.35  FarmPrice_$0.41  \\\n",
            "0      Strawberries            False            False            False   \n",
            "1   Romaine Lettuce            False             True            False   \n",
            "2  Red Leaf Lettuce             True            False            False   \n",
            "3          Potatoes            False            False            False   \n",
            "4           Oranges            False            False             True   \n",
            "\n",
            "   FarmPrice_$1.16  FarmPrice_$1.50  AtlantaRetail_$1.42  AtlantaRetail_$1.72  \\\n",
            "0             True            False                False                False   \n",
            "1            False            False                False                 True   \n",
            "2            False            False                False                False   \n",
            "3            False             True                False                False   \n",
            "4            False            False                 True                False   \n",
            "\n",
            "   AtlantaRetail_$1.84  AtlantaRetail_$2.23  AtlantaRetail_$5.32  \\\n",
            "0                False                 True                False   \n",
            "1                False                False                False   \n",
            "2                 True                False                False   \n",
            "3                False                False                 True   \n",
            "4                False                False                False   \n",
            "\n",
            "   NewYorkRetail_$1.89  NewYorkRetail_$1.99  NewYorkRetail_$2.05  \\\n",
            "0                False                False                False   \n",
            "1                False                 True                False   \n",
            "2                 True                False                False   \n",
            "3                False                False                False   \n",
            "4                False                False                 True   \n",
            "\n",
            "   NewYorkRetail_$2.54  NewYorkRetail_$6.22  \n",
            "0                 True                False  \n",
            "1                False                False  \n",
            "2                False                False  \n",
            "3                False                 True  \n",
            "4                False                False  \n"
          ]
        }
      ]
    },
    {
      "cell_type": "code",
      "source": [
        "import pandas as pd\n",
        "\n",
        "data = {\n",
        "    'productname': ['Strawberries', 'Romaine Lettuce', 'Red Leaf Lettuce', 'Potatoes', 'Oranges'],\n",
        "    'farmprice': ['$1.16', '$0.35', '$0.32', '$1.50', '$0.41'],\n",
        "    'atlantaretail': ['$2.23', '$1.72', '$1.84', '$5.32', '$1.42'],\n",
        "    'newyorkretail': ['$2.54', '$1.99', '$1.89', '$6.22', '$2.05'],\n",
        "    'is_organic': [True, False, True, False, True],\n",
        "    'is_available': [True, True, False, True, False]\n",
        "}\n",
        "\n",
        "df = pd.DataFrame(data)\n",
        "\n",
        "print(\"DataFrame awal:\")\n",
        "print(df)\n",
        "\n",
        "df['farmprice'] = df['farmprice'].replace({'\\$': '', '': ''}, regex=True).astype(float)\n",
        "df['atlantaretail'] = df['atlantaretail'].replace({'\\$': '', '': ''}, regex=True).astype(float)\n",
        "df['newyorkretail'] = df['newyorkretail'].replace({'\\$': '', '': ''}, regex=True).astype(float)\n",
        "\n",
        "df_dummies = pd.get_dummies(df, columns=['farmprice', 'atlantaretail', 'newyorkretail'], prefix=['FarmPrice', 'AtlantaRetail', 'NewYorkRetail'])\n",
        "\n",
        "boolean_columns = df_dummies.select_dtypes(include=['bool']).columns\n",
        "for column in boolean_columns:\n",
        "    df_dummies[column] = df_dummies[column].replace({True: 1, False: 0})\n",
        "\n",
        "print(\"\\nDataFrame akhir setelah dummy encoding dan penggantian True/False:\")\n",
        "print(df_dummies.head())\n"
      ],
      "metadata": {
        "colab": {
          "base_uri": "https://localhost:8080/"
        },
        "id": "N-0KhKI-DkQl",
        "outputId": "8abea756-d6d6-4a71-ef28-6065766df911"
      },
      "execution_count": 27,
      "outputs": [
        {
          "output_type": "stream",
          "name": "stdout",
          "text": [
            "DataFrame awal:\n",
            "        productname farmprice atlantaretail newyorkretail  is_organic  \\\n",
            "0      Strawberries     $1.16         $2.23         $2.54        True   \n",
            "1   Romaine Lettuce     $0.35         $1.72         $1.99       False   \n",
            "2  Red Leaf Lettuce     $0.32         $1.84         $1.89        True   \n",
            "3          Potatoes     $1.50         $5.32         $6.22       False   \n",
            "4           Oranges     $0.41         $1.42         $2.05        True   \n",
            "\n",
            "   is_available  \n",
            "0          True  \n",
            "1          True  \n",
            "2         False  \n",
            "3          True  \n",
            "4         False  \n",
            "\n",
            "DataFrame akhir setelah dummy encoding dan penggantian True/False:\n",
            "        productname  is_organic  is_available  FarmPrice_0.32  FarmPrice_0.35  \\\n",
            "0      Strawberries           1             1               0               0   \n",
            "1   Romaine Lettuce           0             1               0               1   \n",
            "2  Red Leaf Lettuce           1             0               1               0   \n",
            "3          Potatoes           0             1               0               0   \n",
            "4           Oranges           1             0               0               0   \n",
            "\n",
            "   FarmPrice_0.41  FarmPrice_1.16  FarmPrice_1.5  AtlantaRetail_1.42  \\\n",
            "0               0               1              0                   0   \n",
            "1               0               0              0                   0   \n",
            "2               0               0              0                   0   \n",
            "3               0               0              1                   0   \n",
            "4               1               0              0                   1   \n",
            "\n",
            "   AtlantaRetail_1.72  AtlantaRetail_1.84  AtlantaRetail_2.23  \\\n",
            "0                   0                   0                   1   \n",
            "1                   1                   0                   0   \n",
            "2                   0                   1                   0   \n",
            "3                   0                   0                   0   \n",
            "4                   0                   0                   0   \n",
            "\n",
            "   AtlantaRetail_5.32  NewYorkRetail_1.89  NewYorkRetail_1.99  \\\n",
            "0                   0                   0                   0   \n",
            "1                   0                   0                   1   \n",
            "2                   0                   1                   0   \n",
            "3                   1                   0                   0   \n",
            "4                   0                   0                   0   \n",
            "\n",
            "   NewYorkRetail_2.05  NewYorkRetail_2.54  NewYorkRetail_6.22  \n",
            "0                   0                   1                   0  \n",
            "1                   0                   0                   0  \n",
            "2                   0                   0                   0  \n",
            "3                   0                   0                   1  \n",
            "4                   1                   0                   0  \n"
          ]
        }
      ]
    },
    {
      "cell_type": "code",
      "source": [],
      "metadata": {
        "id": "XywqNB2mFEye"
      },
      "execution_count": null,
      "outputs": []
    },
    {
      "cell_type": "markdown",
      "source": [
        "MENCARI OUTLIER"
      ],
      "metadata": {
        "id": "aSKKR_r_FZNd"
      }
    },
    {
      "cell_type": "code",
      "source": [
        "import matplotlib.pyplot as plt\n",
        "import seaborn as sns\n",
        "\n",
        "# Memeriksa outlier dengan boxplot\n",
        "numeric_columns = df.select_dtypes(include=['number']).columns\n",
        "\n",
        "for col in numeric_columns:\n",
        "    plt.figure(figsize=(8, 6))\n",
        "    sns.boxplot(x=df[col])\n",
        "    plt.title(f'Visualisasi Boxplot untuk {col}')\n",
        "    plt.xlabel(col)\n",
        "    plt.grid(True)  # Menambahkan grid untuk membantu visualisasi\n",
        "    plt.show()\n"
      ],
      "metadata": {
        "colab": {
          "base_uri": "https://localhost:8080/",
          "height": 1000
        },
        "id": "Ao9JeYtKFa91",
        "outputId": "242b1aea-7d28-4c9a-d63e-2cc394bc488b"
      },
      "execution_count": 28,
      "outputs": [
        {
          "output_type": "display_data",
          "data": {
            "text/plain": [
              "<Figure size 800x600 with 1 Axes>"
            ],
            "image/png": "[encoded data removed]"
          },
          "metadata": {}
        },
        {
          "output_type": "display_data",
          "data": {
            "text/plain": [
              "<Figure size 800x600 with 1 Axes>"
            ],
            "image/png": "[encoded data removed]"
          },
          "metadata": {}
        },
        {
          "output_type": "display_data",
          "data": {
            "text/plain": [
              "<Figure size 800x600 with 1 Axes>"
            ],
            "image/png": "[encoded data removed]"
          },
          "metadata": {}
        }
      ]
    },
    {
      "cell_type": "code",
      "source": [
        "# Mengecek nilai unik dari kolom Atlanta Retail\n",
        "print(df['atlantaretail'].unique())\n"
      ],
      "metadata": {
        "colab": {
          "base_uri": "https://localhost:8080/"
        },
        "id": "qqjdLHIkFraY",
        "outputId": "65fa53d8-1866-4720-b2bb-8ce8622a45e1"
      },
      "execution_count": 29,
      "outputs": [
        {
          "output_type": "stream",
          "name": "stdout",
          "text": [
            "[2.23 1.72 1.84 5.32 1.42]\n"
          ]
        }
      ]
    },
    {
      "cell_type": "markdown",
      "source": [
        "KATEGORISASI VARIABEL"
      ],
      "metadata": {
        "id": "16jMkpG9HWTG"
      }
    },
    {
      "cell_type": "code",
      "source": [
        "print(df['productname'].unique())\n",
        "\n",
        "print(df['farmprice'].max())\n",
        "\n",
        "print(df['farmprice'].min())\n"
      ],
      "metadata": {
        "colab": {
          "base_uri": "https://localhost:8080/"
        },
        "id": "EZOqOQKpF9s4",
        "outputId": "b6987df4-f8cd-467a-bc9b-2762c028f3fa"
      },
      "execution_count": 30,
      "outputs": [
        {
          "output_type": "stream",
          "name": "stdout",
          "text": [
            "['Strawberries' 'Romaine Lettuce' 'Red Leaf Lettuce' 'Potatoes' 'Oranges']\n",
            "1.5\n",
            "0.32\n"
          ]
        }
      ]
    },
    {
      "cell_type": "code",
      "source": [
        "print(df.columns)\n"
      ],
      "metadata": {
        "colab": {
          "base_uri": "https://localhost:8080/"
        },
        "id": "JHAnvR-rH203",
        "outputId": "058ad109-3ea1-4167-f8ec-7fea4082595c"
      },
      "execution_count": 33,
      "outputs": [
        {
          "output_type": "stream",
          "name": "stdout",
          "text": [
            "Index(['productname', 'farmprice', 'atlantaretail', 'newyorkretail',\n",
            "       'is_organic', 'is_available', 'Atlanta Retail Category'],\n",
            "      dtype='object')\n"
          ]
        }
      ]
    },
    {
      "cell_type": "code",
      "source": [
        "def categorize_price(farm_price):\n",
        "    if farm_price < 0.5:\n",
        "        return 'Murah'\n",
        "    elif 0.5 <= farm_price <= 1.5:\n",
        "        return 'Sedang'\n",
        "    else:\n",
        "        return 'Mahal'\n",
        "\n",
        "# Tambahkan kolom kategori berdasarkan farm price\n",
        "df['category'] = df['farmprice'].apply(categorize_price)\n",
        "\n",
        "# Menampilkan DataFrame dengan kategori baru\n",
        "print(df[['productname', 'farmprice', 'category']])"
      ],
      "metadata": {
        "colab": {
          "base_uri": "https://localhost:8080/"
        },
        "id": "NWF3bR0jIJ3B",
        "outputId": "562fd5cd-9bba-4a0f-98da-b3730dc0a462"
      },
      "execution_count": 37,
      "outputs": [
        {
          "output_type": "stream",
          "name": "stdout",
          "text": [
            "        productname  farmprice category\n",
            "0      Strawberries       1.16   Sedang\n",
            "1   Romaine Lettuce       0.35    Murah\n",
            "2  Red Leaf Lettuce       0.32    Murah\n",
            "3          Potatoes       1.50   Sedang\n",
            "4           Oranges       0.41    Murah\n"
          ]
        }
      ]
    },
    {
      "cell_type": "code",
      "source": [],
      "metadata": {
        "id": "pwcgklX0McED"
      },
      "execution_count": null,
      "outputs": []
    }
  ]
}